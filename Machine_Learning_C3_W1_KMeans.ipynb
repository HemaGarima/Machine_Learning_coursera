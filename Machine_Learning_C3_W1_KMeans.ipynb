{
  "nbformat": 4,
  "nbformat_minor": 0,
  "metadata": {
    "colab": {
      "provenance": [],
      "gpuType": "T4"
    },
    "kernelspec": {
      "name": "python3",
      "display_name": "Python 3"
    },
    "language_info": {
      "name": "python"
    },
    "accelerator": "GPU"
  },
  "cells": [
    {
      "cell_type": "markdown",
      "source": [
        "# K-Means Clustering"
      ],
      "metadata": {
        "id": "ugFycyO884Bk"
      }
    },
    {
      "cell_type": "code",
      "execution_count": 3,
      "metadata": {
        "id": "AZ3Y_-C36_5F"
      },
      "outputs": [],
      "source": [
        "import numpy as np\n",
        "import matplotlib.pyplot as plt\n",
        "from utils import *\n",
        "\n",
        "%matplotlib inline"
      ]
    },
    {
      "cell_type": "markdown",
      "source": [
        "## 1 - Implementing K-Means"
      ],
      "metadata": {
        "id": "RuTvHK-h9NLK"
      }
    },
    {
      "cell_type": "code",
      "source": [
        "# Initialize centroids\n",
        "# K is the number of clusters\n",
        "centroids = kMeans_init_centroids(X, K)\n",
        "\n",
        "for iter in range(iterations):\n",
        "  idx = find_closest_centroids(X , centroids)\n",
        "\n",
        "  centroids = compute_centroids(X , idx , K)"
      ],
      "metadata": {
        "colab": {
          "base_uri": "https://localhost:8080/",
          "height": 211
        },
        "id": "9Oy9gMrH9Gnd",
        "outputId": "7b8bfa78-df13-4a70-b520-72495ebfda19"
      },
      "execution_count": 4,
      "outputs": [
        {
          "output_type": "error",
          "ename": "NameError",
          "evalue": "name 'kMeans_init_centroids' is not defined",
          "traceback": [
            "\u001b[0;31m---------------------------------------------------------------------------\u001b[0m",
            "\u001b[0;31mNameError\u001b[0m                                 Traceback (most recent call last)",
            "\u001b[0;32m<ipython-input-4-513a262985f1>\u001b[0m in \u001b[0;36m<cell line: 3>\u001b[0;34m()\u001b[0m\n\u001b[1;32m      1\u001b[0m \u001b[0;31m# Initialize centroids\u001b[0m\u001b[0;34m\u001b[0m\u001b[0;34m\u001b[0m\u001b[0m\n\u001b[1;32m      2\u001b[0m \u001b[0;31m# K is the number of clusters\u001b[0m\u001b[0;34m\u001b[0m\u001b[0;34m\u001b[0m\u001b[0m\n\u001b[0;32m----> 3\u001b[0;31m \u001b[0mcentroids\u001b[0m \u001b[0;34m=\u001b[0m \u001b[0mkMeans_init_centroids\u001b[0m\u001b[0;34m(\u001b[0m\u001b[0mX\u001b[0m\u001b[0;34m,\u001b[0m \u001b[0mK\u001b[0m\u001b[0;34m)\u001b[0m\u001b[0;34m\u001b[0m\u001b[0;34m\u001b[0m\u001b[0m\n\u001b[0m\u001b[1;32m      4\u001b[0m \u001b[0;34m\u001b[0m\u001b[0m\n\u001b[1;32m      5\u001b[0m \u001b[0;32mfor\u001b[0m \u001b[0miter\u001b[0m \u001b[0;32min\u001b[0m \u001b[0mrange\u001b[0m\u001b[0;34m(\u001b[0m\u001b[0miterations\u001b[0m\u001b[0;34m)\u001b[0m\u001b[0;34m:\u001b[0m\u001b[0;34m\u001b[0m\u001b[0;34m\u001b[0m\u001b[0m\n",
            "\u001b[0;31mNameError\u001b[0m: name 'kMeans_init_centroids' is not defined"
          ]
        }
      ]
    },
    {
      "cell_type": "markdown",
      "source": [
        "### 1.1 Finding closest centroids"
      ],
      "metadata": {
        "id": "TtZ880yUCn_Q"
      }
    },
    {
      "cell_type": "code",
      "source": [
        "def find_closest_centroids(X , centroids):\n",
        "  K = centroids.shape[0]\n",
        "  idx = np.zeros(X.shape[0] , dtype = int)\n",
        "  for i in range(X.shape[0]):\n",
        "    distance = []\n",
        "    for j in range(centroids.shape[0]):\n",
        "      norm_ij = np.linalg.norm(X[i] - centroids[j])\n",
        "      distance.append(norm_ij)\n",
        "\n",
        "    idx[i] = np.argmin(distance)\n",
        "\n",
        "  return idx"
      ],
      "metadata": {
        "id": "aGDKmHbQ_cX4"
      },
      "execution_count": 5,
      "outputs": []
    },
    {
      "cell_type": "code",
      "source": [
        "X = load_data()"
      ],
      "metadata": {
        "id": "yfaTYiKCE6Ft"
      },
      "execution_count": 6,
      "outputs": []
    },
    {
      "cell_type": "code",
      "source": [
        "print(\"First five elements of X are:\\n\" , X[:5])\n",
        "print('The shape of X is:' , X.shape)"
      ],
      "metadata": {
        "colab": {
          "base_uri": "https://localhost:8080/"
        },
        "id": "OUSsbmtfGhYD",
        "outputId": "a5a0a274-10d3-4b47-9e75-a42da562faa1"
      },
      "execution_count": 7,
      "outputs": [
        {
          "output_type": "stream",
          "name": "stdout",
          "text": [
            "First five elements of X are:\n",
            " [[1.84207953 4.6075716 ]\n",
            " [5.65858312 4.79996405]\n",
            " [6.35257892 3.2908545 ]\n",
            " [2.90401653 4.61220411]\n",
            " [3.23197916 4.93989405]]\n",
            "The shape of X is: (300, 2)\n"
          ]
        }
      ]
    },
    {
      "cell_type": "code",
      "source": [
        "initial_centroids = np.array([[3,3],[6,2],[8,5]])\n",
        "idx = find_closest_centroids(X,initial_centroids)\n",
        "print(\"First three elements in idx are:\" , idx[:3])\n",
        "from public_tests import *\n",
        "find_closest_centroids_test(find_closest_centroids)"
      ],
      "metadata": {
        "colab": {
          "base_uri": "https://localhost:8080/"
        },
        "id": "MTpjD_NpIO3O",
        "outputId": "e554da40-8fe9-4730-a758-3216df8ffbce"
      },
      "execution_count": 10,
      "outputs": [
        {
          "output_type": "stream",
          "name": "stdout",
          "text": [
            "First three elements in idx are: [0 2 1]\n",
            "\u001b[92mAll tests passed!\n"
          ]
        }
      ]
    },
    {
      "cell_type": "markdown",
      "source": [
        "### 1.2 Computing centroid means"
      ],
      "metadata": {
        "id": "7x4VCnBhJOYY"
      }
    },
    {
      "cell_type": "code",
      "source": [
        "def compute_centroids(X,idx,K):\n",
        "  m,n = X.shape\n",
        "  centroids = np.zeros((K,n))\n",
        "  for k in range(K):\n",
        "    points = X[idx == k]\n",
        "    centroids[k] = np.mean(points , axis = 0)\n",
        "  return centroids"
      ],
      "metadata": {
        "id": "druKcfvTIuch"
      },
      "execution_count": 12,
      "outputs": []
    },
    {
      "cell_type": "code",
      "source": [
        "K = 3\n",
        "centroids = compute_centroids(X,idx,K)\n",
        "print(\"The centroids are : \" , centroids)\n",
        "compute_centroids_test(compute_centroids)"
      ],
      "metadata": {
        "colab": {
          "base_uri": "https://localhost:8080/"
        },
        "id": "DWQH5QGVKPIB",
        "outputId": "b7f5b0b9-9fbf-4880-9914-7fe574b98ada"
      },
      "execution_count": 13,
      "outputs": [
        {
          "output_type": "stream",
          "name": "stdout",
          "text": [
            "The centroids are :  [[2.42830111 3.15792418]\n",
            " [5.81350331 2.63365645]\n",
            " [7.11938687 3.6166844 ]]\n",
            "\u001b[92mAll tests passed!\n"
          ]
        }
      ]
    },
    {
      "cell_type": "markdown",
      "source": [
        "## 2 - K-Means on a sample dataset"
      ],
      "metadata": {
        "id": "D9S_J82wMt51"
      }
    },
    {
      "cell_type": "code",
      "source": [],
      "metadata": {
        "id": "stEid7AzMLcX"
      },
      "execution_count": null,
      "outputs": []
    }
  ]
}