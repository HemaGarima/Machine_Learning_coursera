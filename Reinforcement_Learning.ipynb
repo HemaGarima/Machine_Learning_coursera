{
  "nbformat": 4,
  "nbformat_minor": 0,
  "metadata": {
    "colab": {
      "provenance": [],
      "authorship_tag": "ABX9TyP1bgdgBVHDc4CkiBOkA5w5",
      "include_colab_link": true
    },
    "kernelspec": {
      "name": "python3",
      "display_name": "Python 3"
    },
    "language_info": {
      "name": "python"
    }
  },
  "cells": [
    {
      "cell_type": "markdown",
      "metadata": {
        "id": "view-in-github",
        "colab_type": "text"
      },
      "source": [
        "<a href=\"https://colab.research.google.com/github/HemaGarima/Machine_Learning_coursera/blob/main/Reinforcement_Learning.ipynb\" target=\"_parent\"><img src=\"https://colab.research.google.com/assets/colab-badge.svg\" alt=\"Open In Colab\"/></a>"
      ]
    },
    {
      "cell_type": "markdown",
      "source": [
        "# Deep Q-Learning - Lunar Lander"
      ],
      "metadata": {
        "id": "G4ddp-iJCdsW"
      }
    },
    {
      "cell_type": "markdown",
      "source": [
        "## Import Packages"
      ],
      "metadata": {
        "id": "R19ar6QlCkxh"
      }
    },
    {
      "cell_type": "code",
      "source": [
        "pip install pyvirtualdisplay"
      ],
      "metadata": {
        "colab": {
          "base_uri": "https://localhost:8080/"
        },
        "id": "xd9gNpZLFT8C",
        "outputId": "12bc8a06-e871-46d1-809b-3cb53b15170e"
      },
      "execution_count": 7,
      "outputs": [
        {
          "output_type": "stream",
          "name": "stdout",
          "text": [
            "Collecting pyvirtualdisplay\n",
            "  Downloading PyVirtualDisplay-3.0-py3-none-any.whl.metadata (943 bytes)\n",
            "Downloading PyVirtualDisplay-3.0-py3-none-any.whl (15 kB)\n",
            "Installing collected packages: pyvirtualdisplay\n",
            "Successfully installed pyvirtualdisplay-3.0\n"
          ]
        }
      ]
    },
    {
      "cell_type": "code",
      "execution_count": 8,
      "metadata": {
        "id": "gdwcRZtKBZ4B"
      },
      "outputs": [],
      "source": [
        "import time\n",
        "from collections import deque , namedtuple\n",
        "\n",
        "import gym\n",
        "import numpy as np\n",
        "import PIL.Image\n",
        "import tensorflow as tf\n",
        "import utils\n",
        "\n",
        "from pyvirtualdisplay import Display\n",
        "from tensorflow.keras import Sequential\n",
        "from tensorflow.keras.layers import Dense , Input\n",
        "from tensorflow.keras.losses import MSE\n",
        "from tensorflow.keras.optimizers import Adam"
      ]
    },
    {
      "cell_type": "code",
      "source": [
        "# Set up a virtual display to render the Lunar Lander environment\n",
        "Display(visible = 0 , size = (840 , 480)).start();\n",
        "\n",
        "# Set the random seed for Tensorflow\n",
        "tf.random.set_seed(utils.SEED)"
      ],
      "metadata": {
        "id": "269pYEpfD_sM"
      },
      "execution_count": 11,
      "outputs": []
    },
    {
      "cell_type": "markdown",
      "source": [
        "## Hyperparameters"
      ],
      "metadata": {
        "id": "E38qTZg3F40-"
      }
    },
    {
      "cell_type": "code",
      "source": [
        "MEMORY_SIZE = 100_000 # size of memory buffer\n",
        "GAMMA = 0.995 # discount factor\n",
        "ALPHA = 1e-3 # Learning rate\n",
        "NUM_STEPS_FOR_UPDATE = 4 # perform a learning update every C time steps"
      ],
      "metadata": {
        "id": "eqySh2dlFh21"
      },
      "execution_count": 12,
      "outputs": []
    },
    {
      "cell_type": "markdown",
      "source": [
        "## The Lunar Lander Environment"
      ],
      "metadata": {
        "id": "TSyb0ZPVGbZf"
      }
    },
    {
      "cell_type": "markdown",
      "source": [
        "1. Action Space\n",
        "\n",
        "\n",
        "*   Do nothing\n",
        "*   Fire right engine\n",
        "*   Fire main engine\n",
        "*   Fire left engine\n",
        "\n"
      ],
      "metadata": {
        "id": "twPgg_HsHAwn"
      }
    },
    {
      "cell_type": "markdown",
      "source": [
        "\n",
        "\n",
        "1.   Do nothing = 0\n",
        "2.   Fire right engine = 1\n",
        "3.   Fire main engine = 2\n",
        "4.   Fire left engine = 3\n"
      ],
      "metadata": {
        "id": "1IppwEfiHbC2"
      }
    },
    {
      "cell_type": "markdown",
      "source": [
        "## Load the Environment"
      ],
      "metadata": {
        "id": "JyeHVHAyJWrj"
      }
    },
    {
      "cell_type": "code",
      "source": [
        "pip install Box2D"
      ],
      "metadata": {
        "colab": {
          "base_uri": "https://localhost:8080/"
        },
        "id": "mfGfkHJqJntg",
        "outputId": "df56b6d6-45e3-4be8-f318-d04b6addcab8"
      },
      "execution_count": 14,
      "outputs": [
        {
          "output_type": "stream",
          "name": "stdout",
          "text": [
            "Collecting Box2D\n",
            "  Downloading Box2D-2.3.10-cp311-cp311-manylinux_2_17_x86_64.manylinux2014_x86_64.whl.metadata (573 bytes)\n",
            "Downloading Box2D-2.3.10-cp311-cp311-manylinux_2_17_x86_64.manylinux2014_x86_64.whl (3.7 MB)\n",
            "\u001b[2K   \u001b[90m━━━━━━━━━━━━━━━━━━━━━━━━━━━━━━━━━━━━━━━━\u001b[0m \u001b[32m3.7/3.7 MB\u001b[0m \u001b[31m31.7 MB/s\u001b[0m eta \u001b[36m0:00:00\u001b[0m\n",
            "\u001b[?25hInstalling collected packages: Box2D\n",
            "Successfully installed Box2D-2.3.10\n"
          ]
        }
      ]
    },
    {
      "cell_type": "code",
      "source": [
        "env = gym.make('LunarLander-v2')"
      ],
      "metadata": {
        "colab": {
          "base_uri": "https://localhost:8080/"
        },
        "id": "y5RDBurmGV4h",
        "outputId": "2cc100cc-6cf2-49f7-e909-e104c5fb2296"
      },
      "execution_count": 15,
      "outputs": [
        {
          "output_type": "stream",
          "name": "stderr",
          "text": [
            "<frozen importlib._bootstrap>:241: DeprecationWarning: builtin type SwigPyPacked has no __module__ attribute\n",
            "<frozen importlib._bootstrap>:241: DeprecationWarning: builtin type SwigPyObject has no __module__ attribute\n",
            "<frozen importlib._bootstrap>:241: DeprecationWarning: builtin type swigvarlink has no __module__ attribute\n",
            "/usr/local/lib/python3.11/dist-packages/gym/core.py:317: DeprecationWarning: \u001b[33mWARN: Initializing wrapper in old step API which returns one bool instead of two. It is recommended to set `new_step_api=True` to use new step API. This will be the default behaviour in future.\u001b[0m\n",
            "  deprecation(\n",
            "/usr/local/lib/python3.11/dist-packages/gym/wrappers/step_api_compatibility.py:39: DeprecationWarning: \u001b[33mWARN: Initializing environment in old step API which returns one bool instead of two. It is recommended to set `new_step_api=True` to use new step API. This will be the default behaviour in future.\u001b[0m\n",
            "  deprecation(\n"
          ]
        }
      ]
    },
    {
      "cell_type": "code",
      "source": [
        "env.reset()\n",
        "PIL.Image.fromarray(env.render(mode = 'rgb_array'))"
      ],
      "metadata": {
        "colab": {
          "base_uri": "https://localhost:8080/",
          "height": 489
        },
        "id": "IRIJ39hcJlms",
        "outputId": "f97a0fad-1b1e-4f00-a261-d3eb08e99bc1"
      },
      "execution_count": 17,
      "outputs": [
        {
          "output_type": "stream",
          "name": "stderr",
          "text": [
            "/usr/local/lib/python3.11/dist-packages/gym/core.py:43: DeprecationWarning: \u001b[33mWARN: The argument mode in render method is deprecated; use render_mode during environment initialization instead.\n",
            "See here for more information: https://www.gymlibrary.ml/content/api/\u001b[0m\n",
            "  deprecation(\n"
          ]
        },
        {
          "output_type": "execute_result",
          "data": {
            "text/plain": [
              "<PIL.Image.Image image mode=RGB size=600x400>"
            ],
            "image/png": "[encoded data removed]",
            "image/jpeg": "[encoded data removed]"
          },
          "metadata": {},
          "execution_count": 17
        }
      ]
    },
    {
      "cell_type": "code",
      "source": [
        "state_size = env.observation_space.shape\n",
        "num_actions = env.action_space.n\n",
        "print('State Shape:' , state_size)\n",
        "print('Number of actions:' , num_actions)"
      ],
      "metadata": {
        "colab": {
          "base_uri": "https://localhost:8080/"
        },
        "id": "3d6eL3f1JzoR",
        "outputId": "a786b8b8-5850-4e78-9089-f0fbf708888c"
      },
      "execution_count": 18,
      "outputs": [
        {
          "output_type": "stream",
          "name": "stdout",
          "text": [
            "State Shape: (8,)\n",
            "Number of actions: 4\n"
          ]
        }
      ]
    },
    {
      "cell_type": "markdown",
      "source": [
        "## Interacting with the Gym Environment"
      ],
      "metadata": {
        "id": "lC7ErJfuKoDr"
      }
    },
    {
      "cell_type": "code",
      "source": [],
      "metadata": {
        "id": "FlSU1AeUKfbZ"
      },
      "execution_count": null,
      "outputs": []
    }
  ]
}